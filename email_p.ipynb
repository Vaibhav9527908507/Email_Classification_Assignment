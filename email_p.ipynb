{
 "cells": [
  {
   "cell_type": "code",
   "execution_count": 47,
   "id": "b0dabe2e-6c3f-421d-a6a2-5443b16ece3b",
   "metadata": {},
   "outputs": [],
   "source": [
    "# Importing Libraries:\n",
    "import pandas as pd\n",
    "from sklearn.model_selection import train_test_split\n",
    "from sklearn.feature_extraction.text import TfidfVectorizer\n",
    "from sklearn.linear_model import LogisticRegression\n",
    "from sklearn.ensemble import RandomForestClassifier\n",
    "from sklearn.svm import SVC\n",
    "from sklearn.naive_bayes import MultinomialNB\n",
    "from sklearn.metrics import accuracy_score, precision_score, recall_score, f1_score\n",
    "import matplotlib.pyplot as plt"
   ]
  },
  {
   "cell_type": "code",
   "execution_count": 48,
   "id": "aae28b9e-8730-4618-b95c-c5e5689a7a62",
   "metadata": {},
   "outputs": [],
   "source": [
    "#Loading the Dataset:\n",
    "data = pd.read_csv(r\"C:\\Users\\DEll\\Documents\\New folder\\email\\spam.csv\")"
   ]
  },
  {
   "cell_type": "code",
   "execution_count": 49,
   "id": "d864d2e2-1a44-4f01-94ff-8159333e8978",
   "metadata": {},
   "outputs": [
    {
     "data": {
      "text/html": [
       "<div>\n",
       "<style scoped>\n",
       "    .dataframe tbody tr th:only-of-type {\n",
       "        vertical-align: middle;\n",
       "    }\n",
       "\n",
       "    .dataframe tbody tr th {\n",
       "        vertical-align: top;\n",
       "    }\n",
       "\n",
       "    .dataframe thead th {\n",
       "        text-align: right;\n",
       "    }\n",
       "</style>\n",
       "<table border=\"1\" class=\"dataframe\">\n",
       "  <thead>\n",
       "    <tr style=\"text-align: right;\">\n",
       "      <th></th>\n",
       "      <th>text</th>\n",
       "      <th>target</th>\n",
       "    </tr>\n",
       "  </thead>\n",
       "  <tbody>\n",
       "    <tr>\n",
       "      <th>0</th>\n",
       "      <td>From ilug-admin@linux.ie Mon Jul 29 11:28:02 2...</td>\n",
       "      <td>0</td>\n",
       "    </tr>\n",
       "    <tr>\n",
       "      <th>1</th>\n",
       "      <td>From gort44@excite.com Mon Jun 24 17:54:21 200...</td>\n",
       "      <td>1</td>\n",
       "    </tr>\n",
       "    <tr>\n",
       "      <th>2</th>\n",
       "      <td>From fork-admin@xent.com Mon Jul 29 11:39:57 2...</td>\n",
       "      <td>1</td>\n",
       "    </tr>\n",
       "    <tr>\n",
       "      <th>3</th>\n",
       "      <td>From dcm123@btamail.net.cn Mon Jun 24 17:49:23...</td>\n",
       "      <td>1</td>\n",
       "    </tr>\n",
       "    <tr>\n",
       "      <th>4</th>\n",
       "      <td>From ilug-admin@linux.ie Mon Aug 19 11:02:47 2...</td>\n",
       "      <td>0</td>\n",
       "    </tr>\n",
       "  </tbody>\n",
       "</table>\n",
       "</div>"
      ],
      "text/plain": [
       "                                                text  target\n",
       "0  From ilug-admin@linux.ie Mon Jul 29 11:28:02 2...       0\n",
       "1  From gort44@excite.com Mon Jun 24 17:54:21 200...       1\n",
       "2  From fork-admin@xent.com Mon Jul 29 11:39:57 2...       1\n",
       "3  From dcm123@btamail.net.cn Mon Jun 24 17:49:23...       1\n",
       "4  From ilug-admin@linux.ie Mon Aug 19 11:02:47 2...       0"
      ]
     },
     "execution_count": 49,
     "metadata": {},
     "output_type": "execute_result"
    }
   ],
   "source": [
    "data.head(5)"
   ]
  },
  {
   "cell_type": "code",
   "execution_count": 50,
   "id": "87f426d3-99c8-4fd2-81dd-cc9a391231c9",
   "metadata": {},
   "outputs": [],
   "source": [
    "# Split the data into features and target variable\n",
    "X = data['text']\n",
    "y = data['target']"
   ]
  },
  {
   "cell_type": "code",
   "execution_count": 51,
   "id": "5ec6543b-964d-46f5-bd7c-c946e7363c1a",
   "metadata": {},
   "outputs": [],
   "source": [
    "# Split the dataset into training and testing sets\n",
    "X_train, X_test, y_train, y_test = train_test_split(X, y, test_size=0.2, random_state=42)"
   ]
  },
  {
   "cell_type": "code",
   "execution_count": 52,
   "id": "4bedfe3d-07f6-4a1f-82b8-d07f196bb96a",
   "metadata": {},
   "outputs": [],
   "source": [
    "# Convert text data to TF-IDF features\n",
    "vectorizer = TfidfVectorizer(stop_words='english', max_features=3000)\n",
    "X_train_tfidf = vectorizer.fit_transform(X_train)\n",
    "X_test_tfidf = vectorizer.transform(X_test)"
   ]
  },
  {
   "cell_type": "code",
   "execution_count": 53,
   "id": "50d84db3-3cb0-4eb1-af81-2e249ef77f24",
   "metadata": {},
   "outputs": [],
   "source": [
    "# Initialize the models\n",
    "models = {\n",
    "    'Logistic Regression': LogisticRegression(random_state=42),\n",
    "    'Random Forest': RandomForestClassifier(random_state=42),\n",
    "    'SVM': SVC(kernel='linear', random_state=42),\n",
    "    'Naive Bayes': MultinomialNB()\n",
    "}"
   ]
  },
  {
   "cell_type": "code",
   "execution_count": 54,
   "id": "94f955f9-ee8c-4a8e-b933-ebce3871e0d1",
   "metadata": {},
   "outputs": [],
   "source": [
    "# Train the models and evaluate\n",
    "results = {}\n",
    "for model_name, model in models.items():\n",
    "    model.fit(X_train_tfidf, y_train)\n",
    "    y_pred = model.predict(X_test_tfidf)\n"
   ]
  },
  {
   "cell_type": "code",
   "execution_count": 55,
   "id": "9936b4bf-67fa-4834-911e-02073aec0f7b",
   "metadata": {},
   "outputs": [],
   "source": [
    "# Calculate performance metrics\n",
    "accuracy = accuracy_score(y_test, y_pred)\n",
    "precision = precision_score(y_test, y_pred)\n",
    "recall = recall_score(y_test, y_pred)\n",
    "f1 = f1_score(y_test, y_pred)"
   ]
  },
  {
   "cell_type": "code",
   "execution_count": 56,
   "id": "80d9d39e-1e32-431a-af59-397568975602",
   "metadata": {},
   "outputs": [],
   "source": [
    " # Store the results\n",
    "results[model_name] = {\n",
    "        'Accuracy': accuracy,\n",
    "        'Precision': precision,\n",
    "        'Recall': recall,\n",
    "        'F1 Score': f1\n",
    "    }"
   ]
  },
  {
   "cell_type": "code",
   "execution_count": 58,
   "id": "e883b7d1-0f8a-4b88-a004-ee7ec0bbc8f1",
   "metadata": {},
   "outputs": [
    {
     "name": "stdout",
     "output_type": "stream",
     "text": [
      "Model Performance:\n",
      "\n",
      "Naive Bayes:\n",
      "  Accuracy : 0.9828\n",
      "  Precision: 1.0000\n",
      "  Recall   : 0.9475\n",
      "  F1 Score : 0.9730\n"
     ]
    }
   ],
   "source": [
    "# Print all model metrics\n",
    "print(\"Model Performance:\")\n",
    "for model_name, metrics in results.items():\n",
    "    print(f\"\\n{model_name}:\")\n",
    "    print(f\"  Accuracy : {metrics['Accuracy']:.4f}\")\n",
    "    print(f\"  Precision: {metrics['Precision']:.4f}\")\n",
    "    print(f\"  Recall   : {metrics['Recall']:.4f}\")\n",
    "    print(f\"  F1 Score : {metrics['F1 Score']:.4f}\")"
   ]
  },
  {
   "cell_type": "code",
   "execution_count": 59,
   "id": "d67d3ef3-68fe-4a0f-ac57-1a72a0179548",
   "metadata": {},
   "outputs": [
    {
     "data": {
      "image/png": "[encoded data removed]",
      "text/plain": [
       "<Figure size 2000x500 with 4 Axes>"
      ]
     },
     "metadata": {},
     "output_type": "display_data"
    }
   ],
   "source": [
    "# Plot the performance of each model for each metric\n",
    "fig, ax = plt.subplots(1, 4, figsize=(20, 5))\n",
    "metrics = ['Accuracy', 'Precision', 'Recall', 'F1 Score']\n",
    "for i, metric in enumerate(metrics):\n",
    "    ax[i].bar(results.keys(), [result[metric] for result in results.values()], color='skyblue')\n",
    "    ax[i].set_title(metric)\n",
    "    ax[i].set_ylim(0, 1)\n",
    "    ax[i].set_xticks(range(len(results)))\n",
    "    ax[i].set_xticklabels(results.keys(), rotation=45, ha='right')\n",
    "    ax[i].set_ylabel(metric)\n",
    "\n",
    "plt.tight_layout()\n",
    "plt.show()"
   ]
  },
  {
   "cell_type": "code",
   "execution_count": 60,
   "id": "964ae2ac-848d-433e-ac21-e4192c162ed4",
   "metadata": {},
   "outputs": [
    {
     "name": "stdout",
     "output_type": "stream",
     "text": [
      "\n",
      "Example Prediction by Logistic Regression:\n",
      "Email: Congratulations! You've won a free gift card. Click here to claim your prize.\n",
      "Predicted as: Spam\n",
      "\n",
      "Example Prediction by Random Forest:\n",
      "Email: Congratulations! You've won a free gift card. Click here to claim your prize.\n",
      "Predicted as: Spam\n",
      "\n",
      "Example Prediction by SVM:\n",
      "Email: Congratulations! You've won a free gift card. Click here to claim your prize.\n",
      "Predicted as: Spam\n",
      "\n",
      "Example Prediction by Naive Bayes:\n",
      "Email: Congratulations! You've won a free gift card. Click here to claim your prize.\n",
      "Predicted as: Spam\n"
     ]
    }
   ],
   "source": [
    "# Example prediction for each model\n",
    "example_email = [\"Congratulations! You've won a free gift card. Click here to claim your prize.\"]\n",
    "example_tfidf = vectorizer.transform(example_email)\n",
    "\n",
    "for model_name, model in models.items():\n",
    "    prediction = model.predict(example_tfidf)\n",
    "    print(f\"\\nExample Prediction by {model_name}:\")\n",
    "    print(f\"Email: {example_email[0]}\")\n",
    "    print(\"Predicted as:\", \"Spam\" if prediction[0] == 1 else \"Ham\")"
   ]
  },
  {
   "cell_type": "code",
   "execution_count": null,
   "id": "5295c13c-ec9e-47cb-a7c1-99f7d1362665",
   "metadata": {},
   "outputs": [],
   "source": []
  }
 ],
 "metadata": {
  "kernelspec": {
   "display_name": "Python 3 (ipykernel)",
   "language": "python",
   "name": "python3"
  },
  "language_info": {
   "codemirror_mode": {
    "name": "ipython",
    "version": 3
   },
   "file_extension": ".py",
   "mimetype": "text/x-python",
   "name": "python",
   "nbconvert_exporter": "python",
   "pygments_lexer": "ipython3",
   "version": "3.12.4"
  }
 },
 "nbformat": 4,
 "nbformat_minor": 5
}
